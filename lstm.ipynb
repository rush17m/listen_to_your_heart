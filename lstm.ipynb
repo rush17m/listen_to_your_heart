{
 "cells": [
  {
   "cell_type": "markdown",
   "metadata": {},
   "source": [
    "#### LSTM Model\n",
    "\n",
    "From Wang et al."
   ]
  },
  {
   "cell_type": "code",
   "execution_count": null,
   "metadata": {},
   "outputs": [],
   "source": [
    "import os\n",
    "import numpy as np\n",
    "\n",
    "import tensorflow as tf\n",
    "print(\"TensorFlow version:\", tf.__version__)\n",
    "\n",
    "np.set_printoptions(precision=4)"
   ]
  },
  {
   "cell_type": "code",
   "execution_count": null,
   "metadata": {},
   "outputs": [],
   "source": [
    "# Load in the RR interval data in segments of length 500\n",
    "seg_length = 500\n",
    "\n",
    "X = None # (N, 500)\n",
    "y = None # (N, 2) -> one-hot encoded (1,0) or (0,1)\n",
    "\n",
    "db1_pos = ['chfdb']\n",
    "db1_neg = ['nsrdb', 'fantasia']\n",
    "db2_pos = ['chf2db']\n",
    "db2_neg = ['nsr2db']\n",
    "\n",
    "for db in db1_pos:\n",
    "    count = 0\n",
    "    for record in os.listdir(f'data/{db}/rr'):\n",
    "        rr = np.loadtxt(f'data/{db}/rr/{record}')\n",
    "        n_segments = rr.shape[0] // seg_length\n",
    "        rr = rr[:n_segments*seg_length].reshape((n_segments, seg_length))\n",
    "        labels = np.c_[np.ones(n_segments), np.zeros(n_segments)]\n",
    "\n",
    "        count += len(labels)\n",
    "        if X is None or y is None:\n",
    "            X = rr\n",
    "            y = labels\n",
    "        else:\n",
    "            X = np.r_[rr, X]\n",
    "            y = np.r_[labels, y]\n",
    "    print(db, count)\n",
    "\n",
    "for db in db1_neg:\n",
    "    count = 0\n",
    "    for record in os.listdir(f'data/{db}/rr'):\n",
    "        rr = np.loadtxt(f'data/{db}/rr/{record}')\n",
    "        n_segments = rr.shape[0] // seg_length\n",
    "        rr = rr[:n_segments*seg_length].reshape((n_segments, seg_length))\n",
    "        labels = np.c_[np.zeros(n_segments), np.ones(n_segments)]\n",
    "\n",
    "        count += len(labels)\n",
    "        if X is None or y is None:\n",
    "            X = rr\n",
    "            y = labels\n",
    "        else:\n",
    "            X = np.r_[rr, X]\n",
    "            y = np.r_[labels, y]\n",
    "    print(db, count)\n",
    "\n",
    "X.shape, y.shape"
   ]
  },
  {
   "cell_type": "code",
   "execution_count": null,
   "metadata": {},
   "outputs": [],
   "source": [
    "import matplotlib.pyplot as plt\n",
    "%matplotlib inline\n",
    "\n",
    "print(y[99])\n",
    "plt.plot(X[99], color='g')\n",
    "plt.yticks([0.9, 1.0, 1.1, 1.2, 1.3, 1.4])\n",
    "plt.show()\n",
    "\n",
    "# Plot of a segment from NSR class"
   ]
  },
  {
   "cell_type": "code",
   "execution_count": null,
   "metadata": {},
   "outputs": [],
   "source": [
    "print(y[-3])\n",
    "plt.plot(X[-3], color='darkred')\n",
    "plt.yticks()\n",
    "plt.show()\n",
    "\n",
    "# Plot of a segment from CHF class"
   ]
  },
  {
   "cell_type": "code",
   "execution_count": null,
   "metadata": {},
   "outputs": [],
   "source": [
    "from sklearn.model_selection import train_test_split\n",
    "from sklearn import preprocessing\n",
    "\n",
    "X_raw = X.copy()\n",
    "X = preprocessing.scale(X, axis=1)\n",
    "\n",
    "X_train, X_test, y_train, y_test = train_test_split(\n",
    "    X, y, test_size=0.1, random_state=410)\n",
    "X_train, X_valid, y_train, y_valid = train_test_split(\n",
    "    X_train, y_train, test_size=0.1, random_state=410)\n",
    "\n",
    "\n",
    "_, X_test_raw, _, y_test_raw = train_test_split(\n",
    "    X_raw, y, test_size=0.1, random_state=410)\n",
    "\n",
    "X_train.shape, X_valid.shape, X_test.shape"
   ]
  },
  {
   "cell_type": "code",
   "execution_count": null,
   "metadata": {},
   "outputs": [],
   "source": [
    "X_train.max(), X_train.min()"
   ]
  },
  {
   "cell_type": "code",
   "execution_count": null,
   "metadata": {},
   "outputs": [],
   "source": [
    "X_train.mean(), X_train.std()"
   ]
  },
  {
   "cell_type": "code",
   "execution_count": null,
   "metadata": {},
   "outputs": [],
   "source": [
    "inputs = tf.keras.layers.Input(shape=(500, 1))\n",
    "\n",
    "\n",
    "def inception_lstm(inputs):\n",
    "    a = tf.keras.layers.Bidirectional(\n",
    "        tf.keras.layers.LSTM(5, return_sequences=True))(inputs)\n",
    "    a = tf.keras.layers.LSTM(5, return_sequences=True)(a)\n",
    "\n",
    "    b = tf.keras.layers.Conv1D(5, kernel_size=1, padding='same')(inputs)\n",
    "    b = tf.keras.layers.Conv1D(5, kernel_size=3, padding='same')(b)\n",
    "\n",
    "    c = tf.keras.layers.Conv1D(5, kernel_size=1, padding='same')(inputs)\n",
    "    c = tf.keras.layers.Conv1D(5, kernel_size=5, padding='same')(c)\n",
    "\n",
    "    d = tf.keras.layers.MaxPool1D(3)(inputs)\n",
    "    d = tf.keras.layers.Conv1D(5, kernel_size=1)(d)\n",
    "\n",
    "    concat = tf.keras.layers.Concatenate(1)([a, b, c, d])\n",
    "    return concat\n",
    "\n",
    "\n",
    "layer1 = inception_lstm(inputs)\n",
    "layer2 = inception_lstm(layer1)\n",
    "dropout = tf.keras.layers.Dropout(0.2)(layer2)\n",
    "flattened = tf.keras.layers.Flatten()(dropout)\n",
    "output = tf.keras.layers.Dense(2, activation='sigmoid')(flattened)\n",
    "\n",
    "model = tf.keras.Model(inputs, output)\n",
    "model.summary()"
   ]
  },
  {
   "cell_type": "code",
   "execution_count": null,
   "metadata": {},
   "outputs": [],
   "source": [
    "loss_fn = tf.keras.losses.BinaryCrossentropy()\n",
    "model.compile(optimizer='adam',\n",
    "              loss=loss_fn,\n",
    "              metrics=['accuracy'])"
   ]
  },
  {
   "cell_type": "code",
   "execution_count": null,
   "metadata": {},
   "outputs": [],
   "source": [
    "np.unique(y_test.argmax(axis=1), return_counts=True)"
   ]
  },
  {
   "cell_type": "code",
   "execution_count": null,
   "metadata": {},
   "outputs": [],
   "source": [
    "# optional early-stopping callback\n",
    "# callback = tf.keras.callbacks.EarlyStopping(monitor='val_loss', patience=5)\n",
    "\n",
    "model.fit(x=X_train, y=y_train, validation_data=(X_valid, y_valid),\n",
    "          batch_size=128, epochs=100)\n",
    "model.save('lstm-model.keras')"
   ]
  },
  {
   "cell_type": "code",
   "execution_count": null,
   "metadata": {},
   "outputs": [],
   "source": [
    "model = tf.keras.models.load_model('lstm-model.keras')\n",
    "y_pred = model.predict(X_test)"
   ]
  },
  {
   "cell_type": "code",
   "execution_count": null,
   "metadata": {},
   "outputs": [],
   "source": [
    "np.unique(y_pred.argmax(axis=1), return_counts=True)"
   ]
  },
  {
   "cell_type": "code",
   "execution_count": null,
   "metadata": {},
   "outputs": [],
   "source": [
    "from sklearn.metrics import recall_score\n",
    "from sklearn.metrics import precision_score\n",
    "from sklearn.metrics import accuracy_score\n",
    "\n",
    "print(recall_score(y_test.argmax(axis=1), y_pred.argmax(axis=1)))\n",
    "print(precision_score(y_test.argmax(axis=1), y_pred.argmax(axis=1)))\n",
    "print(accuracy_score(y_test.argmax(axis=1), y_pred.argmax(axis=1)))"
   ]
  }
 ],
 "metadata": {
  "kernelspec": {
   "display_name": "Python 3",
   "language": "python",
   "name": "python3"
  },
  "language_info": {
   "codemirror_mode": {
    "name": "ipython",
    "version": 3
   },
   "file_extension": ".py",
   "mimetype": "text/x-python",
   "name": "python",
   "nbconvert_exporter": "python",
   "pygments_lexer": "ipython3",
   "version": "3.10.13"
  }
 },
 "nbformat": 4,
 "nbformat_minor": 2
}
