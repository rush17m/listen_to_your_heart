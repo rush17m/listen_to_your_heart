{
 "cells": [
  {
   "cell_type": "markdown",
   "metadata": {},
   "source": [
    "# Implementation with the RandomForestClassifier"
   ]
  },
  {
   "cell_type": "markdown",
   "metadata": {},
   "source": [
    "## Link to GitHub Source\n",
    "https://github.com/SadmanSakib93/ECG-Arrhythmia-Classification-Dataset "
   ]
  },
  {
   "cell_type": "code",
   "execution_count": 1,
   "metadata": {},
   "outputs": [
    {
     "name": "stdout",
     "output_type": "stream",
     "text": [
      "TensorFlow version: 2.15.0\n"
     ]
    }
   ],
   "source": [
    "import os\n",
    "import numpy as np\n",
    "\n",
    "import tensorflow as tf\n",
    "print(\"TensorFlow version:\", tf.__version__)\n",
    "\n",
    "np.set_printoptions(precision=4)\n",
    "seg_length = 500"
   ]
  },
  {
   "cell_type": "markdown",
   "metadata": {},
   "source": []
  },
  {
   "cell_type": "code",
   "execution_count": 2,
   "metadata": {},
   "outputs": [
    {
     "data": {
      "text/plain": [
       "((7397, 500), (7397, 2))"
      ]
     },
     "execution_count": 2,
     "metadata": {},
     "output_type": "execute_result"
    }
   ],
   "source": [
    "X = None\n",
    "y = None\n",
    "\n",
    "db1_pos = ['chfdb']\n",
    "db1_neg = ['nsrdb', 'fantasia']\n",
    "db2_pos = ['chf2db']\n",
    "db2_neg = ['nsr2db']\n",
    "\n",
    "for db in db1_pos:\n",
    "    for record in os.listdir(f'data/{db}/rr'):\n",
    "        rr = np.loadtxt(f'data/{db}/rr/{record}')\n",
    "        n_segments = rr.shape[0] // seg_length\n",
    "        rr = rr[:n_segments*seg_length].reshape((n_segments, seg_length))\n",
    "        labels = np.c_[np.ones(n_segments), np.zeros(n_segments)]\n",
    "\n",
    "        if X is None or y is None:\n",
    "            X = rr\n",
    "            y = labels\n",
    "        else:\n",
    "            X = np.r_[rr, X]\n",
    "            y = np.r_[labels, y]\n",
    "\n",
    "for db in db1_neg:\n",
    "    for record in os.listdir(f'data/{db}/rr'):\n",
    "        rr = np.loadtxt(f'data/{db}/rr/{record}')\n",
    "        n_segments = rr.shape[0] // seg_length\n",
    "        rr = rr[:n_segments*seg_length].reshape((n_segments, seg_length))\n",
    "        labels = np.c_[np.zeros(n_segments), np.ones(n_segments)]\n",
    "\n",
    "        if X is None or y is None:\n",
    "            X = rr\n",
    "            y = labels\n",
    "        else:\n",
    "            X = np.r_[rr, X]\n",
    "            y = np.r_[labels, y]\n",
    "\n",
    "X.shape, y.shape"
   ]
  },
  {
   "cell_type": "code",
   "execution_count": 3,
   "metadata": {},
   "outputs": [],
   "source": [
    "# from sklearn.model_selection import train_test_split\n",
    "# from sklearn import preprocessing\n",
    "\n",
    "# # normalize?\n",
    "# # X = (X - X.mean()) / X.std()\n",
    "# X = preprocessing.scale(X, axis=1)\n",
    "\n",
    "# X_train, X_test, y_train, y_test = train_test_split(X, y, test_size=0.1, random_state=410)\n",
    "# X_train, X_valid, y_train, y_valid = train_test_split(X_train, y_train, test_size=0.1, random_state=410)\n",
    "\n",
    "# # scaler = preprocessing.StandardScaler()\n",
    "# # scaler.fit(X_train)\n",
    "# # X_train = scaler.transform(X_train)\n",
    "# # X_valid = scaler.transform(X_valid)\n",
    "# # X_test = scaler.transform(X_test)\n",
    "\n",
    "# X_train.shape, X_valid.shape, X_test.shape"
   ]
  },
  {
   "cell_type": "code",
   "execution_count": 4,
   "metadata": {},
   "outputs": [
    {
     "data": {
      "text/plain": [
       "((5991, 500), (666, 500), (740, 500))"
      ]
     },
     "execution_count": 4,
     "metadata": {},
     "output_type": "execute_result"
    }
   ],
   "source": [
    "from sklearn.model_selection import train_test_split\n",
    "\n",
    "X_train, X_test, y_train, y_test = train_test_split(X, y, test_size=0.1, random_state=410)\n",
    "X_train, X_valid, y_train, y_valid = train_test_split(X_train, y_train, test_size=0.1, random_state=410)\n",
    "\n",
    "X_train.shape, X_valid.shape, X_test.shape"
   ]
  },
  {
   "cell_type": "code",
   "execution_count": null,
   "metadata": {},
   "outputs": [],
   "source": [
    "from sklearn import preprocessing\n",
    "\n",
    "min_max_scaler = preprocessing.MinMaxScaler()\n",
    "X_train_scaled = min_max_scaler.fit_transform(X_train)\n",
    "X_test_scaled = min_max_scaler.transform(X_test)\n",
    "\n",
    "print(min_max_scaler.scale_)"
   ]
  },
  {
   "cell_type": "code",
   "execution_count": 6,
   "metadata": {},
   "outputs": [
    {
     "name": "stdout",
     "output_type": "stream",
     "text": [
      "Accuracy for the train data 1.0\n"
     ]
    }
   ],
   "source": [
    "from sklearn.ensemble import RandomForestClassifier\n",
    "\n",
    "model = RandomForestClassifier(random_state=101, n_estimators=150)\n",
    "model.fit(X_train_scaled, y_train)\n",
    "\n",
    "# training accuracy\n",
    "print('Accuracy for the train data', model.score(X_train_scaled, y_train))"
   ]
  },
  {
   "cell_type": "code",
   "execution_count": 7,
   "metadata": {},
   "outputs": [
    {
     "name": "stdout",
     "output_type": "stream",
     "text": [
      "Accuracy: 0.8932432432432432\n"
     ]
    }
   ],
   "source": [
    "from sklearn import metrics\n",
    "y_pred = model.predict(X_test_scaled)\n",
    "print(\"Accuracy:\",metrics.accuracy_score(y_test, y_pred))\n",
    "\n",
    "# print(\"*** Confusion Matrix ***\")\n",
    "# print(metrics.confusion_matrix(y_test, y_pred))"
   ]
  },
  {
   "cell_type": "code",
   "execution_count": 8,
   "metadata": {},
   "outputs": [],
   "source": [
    "# X_train.max(), X_train.min()"
   ]
  },
  {
   "cell_type": "code",
   "execution_count": 9,
   "metadata": {},
   "outputs": [],
   "source": [
    "# X_train.mean(), X_train.std()"
   ]
  },
  {
   "cell_type": "code",
   "execution_count": 10,
   "metadata": {},
   "outputs": [],
   "source": [
    "# inputs = tf.keras.layers.Input(shape=(500, 1))\n",
    "\n",
    "\n",
    "# def inception_lstm(inputs):\n",
    "#     a = tf.keras.layers.Bidirectional(\n",
    "#         tf.keras.layers.LSTM(5, return_sequences=True))(inputs)\n",
    "#     a = tf.keras.layers.LSTM(5, return_sequences=True)(a)\n",
    "\n",
    "#     b = tf.keras.layers.Conv1D(5, kernel_size=1, padding='same')(inputs)\n",
    "#     b = tf.keras.layers.Conv1D(5, kernel_size=3, padding='same')(b)\n",
    "\n",
    "#     c = tf.keras.layers.Conv1D(5, kernel_size=1, padding='same')(inputs)\n",
    "#     c = tf.keras.layers.Conv1D(5, kernel_size=5, padding='same')(c)\n",
    "\n",
    "#     d = tf.keras.layers.MaxPool1D(3)(inputs)\n",
    "#     d = tf.keras.layers.Conv1D(5, kernel_size=1)(d)\n",
    "\n",
    "#     concat = tf.keras.layers.Concatenate(1)([a, b, c, d])\n",
    "#     return concat\n",
    "\n",
    "\n",
    "# layer1 = inception_lstm(inputs)\n",
    "# layer2 = inception_lstm(layer1)\n",
    "# dropout = tf.keras.layers.Dropout(0.2)(layer2)\n",
    "# flattened = tf.keras.layers.Flatten()(dropout)\n",
    "# output = tf.keras.layers.Dense(2, activation='sigmoid')(flattened)\n",
    "\n",
    "# model = tf.keras.Model(inputs, output)\n",
    "# model.summary()"
   ]
  },
  {
   "cell_type": "code",
   "execution_count": 11,
   "metadata": {},
   "outputs": [],
   "source": [
    "# loss_fn = tf.keras.losses.BinaryCrossentropy()\n",
    "# model.compile(optimizer='adam',\n",
    "#               loss=loss_fn,\n",
    "#               metrics=['accuracy'])"
   ]
  },
  {
   "cell_type": "code",
   "execution_count": 12,
   "metadata": {},
   "outputs": [],
   "source": [
    "# np.unique(y_test.argmax(axis=1), return_counts=True)"
   ]
  },
  {
   "cell_type": "code",
   "execution_count": 13,
   "metadata": {},
   "outputs": [],
   "source": [
    "# y_pred = model.predict(X_test)"
   ]
  },
  {
   "cell_type": "code",
   "execution_count": 14,
   "metadata": {},
   "outputs": [],
   "source": [
    "# np.unique(y_pred.argmax(axis=1), return_counts=True)"
   ]
  },
  {
   "cell_type": "code",
   "execution_count": 15,
   "metadata": {},
   "outputs": [],
   "source": [
    "# # callback = tf.keras.callbacks.EarlyStopping(monitor='val_loss', patience=5)\n",
    "# model.fit(x=X_train, y=y_train, validation_data=(X_valid, y_valid),\n",
    "#           batch_size=128, epochs=100)"
   ]
  },
  {
   "cell_type": "code",
   "execution_count": 16,
   "metadata": {},
   "outputs": [],
   "source": [
    "# model.save('model4.keras')\n",
    "\n",
    "# model 3, minmax sample scaling w/ no early stopping (100 epochs)\n",
    "# model 4, zero mean feature scaling w/ no early stopping (100 epochs)"
   ]
  },
  {
   "cell_type": "code",
   "execution_count": 17,
   "metadata": {},
   "outputs": [],
   "source": [
    "# from sklearn.metrics import recall_score\n",
    "# from sklearn.metrics import precision_score\n",
    "# from sklearn.metrics import accuracy_score\n",
    "\n",
    "# y_pred = model.predict(X_test).argmax(axis=1)"
   ]
  },
  {
   "cell_type": "code",
   "execution_count": 18,
   "metadata": {},
   "outputs": [],
   "source": [
    "# print(recall_score(y_test.argmax(axis=1), y_pred))\n",
    "# print(precision_score(y_test.argmax(axis=1), y_pred))\n",
    "# print(accuracy_score(y_test.argmax(axis=1), y_pred))"
   ]
  }
 ],
 "metadata": {
  "kernelspec": {
   "display_name": "Python 3",
   "language": "python",
   "name": "python3"
  },
  "language_info": {
   "codemirror_mode": {
    "name": "ipython",
    "version": 3
   },
   "file_extension": ".py",
   "mimetype": "text/x-python",
   "name": "python",
   "nbconvert_exporter": "python",
   "pygments_lexer": "ipython3",
   "version": "3.11.3"
  }
 },
 "nbformat": 4,
 "nbformat_minor": 2
}
