{
 "cells": [
  {
   "cell_type": "markdown",
   "metadata": {},
   "source": [
    "# Implementation with the RandomForestClassifier"
   ]
  },
  {
   "cell_type": "code",
   "execution_count": 1,
   "metadata": {},
   "outputs": [
    {
     "name": "stdout",
     "output_type": "stream",
     "text": [
      "TensorFlow version: 2.15.0\n"
     ]
    }
   ],
   "source": [
    "import os\n",
    "import numpy as np\n",
    "\n",
    "import tensorflow as tf\n",
    "print(\"TensorFlow version:\", tf.__version__)\n",
    "\n",
    "np.set_printoptions(precision=4)\n",
    "seg_length = 500"
   ]
  },
  {
   "cell_type": "markdown",
   "metadata": {},
   "source": []
  },
  {
   "cell_type": "code",
   "execution_count": 2,
   "metadata": {},
   "outputs": [
    {
     "data": {
      "text/plain": [
       "((7397, 500), (7397, 2))"
      ]
     },
     "execution_count": 2,
     "metadata": {},
     "output_type": "execute_result"
    }
   ],
   "source": [
    "X = None\n",
    "y = None\n",
    "\n",
    "db1_pos = ['chfdb']\n",
    "db1_neg = ['nsrdb', 'fantasia']\n",
    "db2_pos = ['chf2db']\n",
    "db2_neg = ['nsr2db']\n",
    "\n",
    "for db in db1_pos:\n",
    "    for record in os.listdir(f'data/{db}/rr'):\n",
    "        rr = np.loadtxt(f'data/{db}/rr/{record}')\n",
    "        n_segments = rr.shape[0] // seg_length\n",
    "        rr = rr[:n_segments*seg_length].reshape((n_segments, seg_length))\n",
    "        labels = np.c_[np.ones(n_segments), np.zeros(n_segments)]\n",
    "\n",
    "        if X is None or y is None:\n",
    "            X = rr\n",
    "            y = labels\n",
    "        else:\n",
    "            X = np.r_[rr, X]\n",
    "            y = np.r_[labels, y]\n",
    "\n",
    "for db in db1_neg:\n",
    "    for record in os.listdir(f'data/{db}/rr'):\n",
    "        rr = np.loadtxt(f'data/{db}/rr/{record}')\n",
    "        n_segments = rr.shape[0] // seg_length\n",
    "        rr = rr[:n_segments*seg_length].reshape((n_segments, seg_length))\n",
    "        labels = np.c_[np.zeros(n_segments), np.ones(n_segments)]\n",
    "\n",
    "        if X is None or y is None:\n",
    "            X = rr\n",
    "            y = labels\n",
    "        else:\n",
    "            X = np.r_[rr, X]\n",
    "            y = np.r_[labels, y]\n",
    "\n",
    "X.shape, y.shape"
   ]
  },
  {
   "cell_type": "code",
   "execution_count": 3,
   "metadata": {},
   "outputs": [],
   "source": [
    "# from sklearn.model_selection import train_test_split\n",
    "# from sklearn import preprocessing\n",
    "\n",
    "# # normalize?\n",
    "# # X = (X - X.mean()) / X.std()\n",
    "# X = preprocessing.scale(X, axis=1)\n",
    "\n",
    "# X_train, X_test, y_train, y_test = train_test_split(X, y, test_size=0.1, random_state=410)\n",
    "# X_train, X_valid, y_train, y_valid = train_test_split(X_train, y_train, test_size=0.1, random_state=410)\n",
    "\n",
    "# # scaler = preprocessing.StandardScaler()\n",
    "# # scaler.fit(X_train)\n",
    "# # X_train = scaler.transform(X_train)\n",
    "# # X_valid = scaler.transform(X_valid)\n",
    "# # X_test = scaler.transform(X_test)\n",
    "\n",
    "# X_train.shape, X_valid.shape, X_test.shape"
   ]
  },
  {
   "cell_type": "code",
   "execution_count": 4,
   "metadata": {},
   "outputs": [
    {
     "data": {
      "text/plain": [
       "((5991, 500), (666, 500), (740, 500))"
      ]
     },
     "execution_count": 4,
     "metadata": {},
     "output_type": "execute_result"
    }
   ],
   "source": [
    "from sklearn.model_selection import train_test_split\n",
    "\n",
    "X_train, X_test, y_train, y_test = train_test_split(X, y, test_size=0.1, random_state=410)\n",
    "X_train, X_valid, y_train, y_valid = train_test_split(X_train, y_train, test_size=0.1, random_state=410)\n",
    "\n",
    "X_train.shape, X_valid.shape, X_test.shape"
   ]
  },
  {
   "cell_type": "code",
   "execution_count": 5,
   "metadata": {},
   "outputs": [
    {
     "name": "stdout",
     "output_type": "stream",
     "text": [
      "[0.6312 0.3414 0.6281 0.6813 0.2707 0.5169 0.675  0.6591 0.3743 0.6754\n",
      " 0.6407 0.6641 0.6345 0.3811 0.646  0.6465 0.6419 0.6766 0.6733 0.6281\n",
      " 0.6626 0.1971 0.612  0.676  0.473  0.6535 0.6454 0.4377 0.6424 0.6622\n",
      " 0.6813 0.6931 0.3879 0.6692 0.6249 0.5907 0.2291 0.6735 0.3371 0.3052\n",
      " 0.3935 0.6216 0.3751 0.614  0.5895 0.581  0.6023 0.3591 0.6455 0.6186\n",
      " 0.3051 0.5765 0.5924 0.5224 0.6325 0.4695 0.5826 0.62   0.663  0.4731\n",
      " 0.0022 0.2824 0.6914 0.489  0.2744 0.6969 0.6263 0.6751 0.3834 0.3782\n",
      " 0.6393 0.6405 0.6569 0.4778 0.6482 0.6811 0.7222 0.719  0.3842 0.6667\n",
      " 0.6719 0.4183 0.0022 0.4842 0.6546 0.5747 0.6153 0.6922 0.4841 0.5424\n",
      " 0.3619 0.651  0.3736 0.6908 0.6095 0.5036 0.3753 0.585  0.1945 0.4848\n",
      " 0.598  0.4708 0.6062 0.2654 0.2931 0.4743 0.3007 0.2582 0.599  0.3822\n",
      " 0.5923 0.6431 0.5537 0.4881 0.6791 0.6679 0.5965 0.477  0.6277 0.5132\n",
      " 0.6185 0.5095 0.6418 0.625  0.6202 0.6153 0.4911 0.5894 0.5811 0.6183\n",
      " 0.6186 0.6576 0.6294 0.4003 0.247  0.6081 0.6482 0.5055 0.3686 0.5965\n",
      " 0.6463 0.3654 0.49   0.5182 0.6786 0.4723 0.6919 0.4788 0.6312 0.611\n",
      " 0.6408 0.4778 0.6344 0.649  0.6606 0.5203 0.649  0.6373 0.6713 0.6166\n",
      " 0.6375 0.6342 0.4627 0.6278 0.3681 0.6947 0.6391 0.374  0.6328 0.595\n",
      " 0.3919 0.6294 0.5893 0.6097 0.3015 0.6006 0.3258 0.3686 0.5565 0.4927\n",
      " 0.6592 0.6474 0.4186 0.6326 0.4872 0.6341 0.6587 0.3793 0.6169 0.1786\n",
      " 0.4539 0.7373 0.6475 0.7527 0.6978 0.614  0.6574 0.6295 0.7357 0.4011\n",
      " 0.2451 0.6459 0.6727 0.2875 0.6079 0.5161 0.1886 0.6532 0.6528 0.312\n",
      " 0.5047 0.6451 0.6218 0.3792 0.6665 0.6036 0.6468 0.6217 0.4842 0.6327\n",
      " 0.6442 0.6409 0.6279 0.6385 0.6067 0.5422 0.6387 0.3124 0.6156 0.6458\n",
      " 0.5592 0.3056 0.6355 0.664  0.3023 0.6296 0.6489 0.6231 0.6886 0.3649\n",
      " 0.6296 0.6368 0.6186 0.4756 0.5838 0.6276 0.6306 0.6339 0.0022 0.7026\n",
      " 0.6375 0.6279 0.6456 0.5839 0.6157 0.3078 0.6399 0.3127 0.5965 0.6403\n",
      " 0.2648 0.6249 0.629  0.6097 0.3865 0.6309 0.3742 0.6081 0.2127 0.6729\n",
      " 0.372  0.649  0.6273 0.3787 0.6123 0.6169 0.2852 0.4825 0.6476 0.6391\n",
      " 0.6646 0.3864 0.6327 0.6646 0.4814 0.6911 0.6612 0.5979 0.5008 0.6198\n",
      " 0.5066 0.611  0.6497 0.6247 0.2155 0.6618 0.6356 0.3419 0.599  0.4008\n",
      " 0.3258 0.5896 0.6228 0.327  0.6167 0.6352 0.3279 0.6311 0.7106 0.3257\n",
      " 0.6439 0.6209 0.2717 0.6766 0.6308 0.6566 0.332  0.6297 0.6577 0.2145\n",
      " 0.3181 0.4835 0.5981 0.6885 0.6281 0.6375 0.6167 0.6794 0.6657 0.631\n",
      " 0.6626 0.5198 0.6249 0.6747 0.2855 0.6458 0.3934 0.647  0.6279 0.6523\n",
      " 0.6094 0.4918 0.6725 0.6432 0.6261 0.5976 0.6357 0.6358 0.6097 0.6215\n",
      " 0.6834 0.6493 0.4947 0.6329 0.4988 0.6259 0.3951 0.6355 0.5246 0.6124\n",
      " 0.6157 0.6745 0.3048 0.6606 0.0435 0.1309 0.11   0.3769 0.0261 0.5866\n",
      " 0.6598 0.367  0.4185 0.2659 0.614  0.6382 0.3664 0.6232 0.614  0.3109\n",
      " 0.6201 0.1349 0.6604 0.6276 0.5854 0.6202 0.1383 0.6249 0.145  0.6821\n",
      " 0.6311 0.51   0.398  0.6392 0.6263 0.6291 0.6536 0.5921 0.5978 0.6125\n",
      " 0.5171 0.6708 0.6421 0.4892 0.6344 0.6691 0.6283 0.3992 0.6914 0.6715\n",
      " 0.1429 0.2856 0.6312 0.6218 0.6909 0.6502 0.6065 0.6051 0.6292 0.512\n",
      " 0.6632 0.6255 0.6509 0.6154 0.6319 0.4663 0.6082 0.6334 0.3154 0.2634\n",
      " 0.365  0.6451 0.3074 0.6534 0.6876 0.3779 0.6008 0.6342 0.6063 0.5936\n",
      " 0.6368 0.5921 0.1375 0.6359 0.6263 0.5965 0.611  0.6895 0.6023 0.6304\n",
      " 0.4688 0.6436 0.6475 0.6065 0.467  0.6637 0.639  0.6386 0.4706 0.6263\n",
      " 0.3985 0.6491 0.6311 0.6456 0.5088 0.6988 0.6604 0.6531 0.6853 0.4637\n",
      " 0.6155 0.6713 0.0022 0.515  0.6551 0.6392 0.6554 0.6216 0.6407 0.4734\n",
      " 0.6782 0.6064 0.6263 0.6289 0.5018 0.6729 0.6526 0.6544 0.6804 0.6604\n",
      " 0.4948 0.6036 0.5926 0.6392 0.6886 0.6024 0.6797 0.6424 0.6233 0.0748]\n"
     ]
    }
   ],
   "source": [
    "from sklearn import preprocessing\n",
    "\n",
    "min_max_scaler = preprocessing.MinMaxScaler()\n",
    "X_train_scaled = min_max_scaler.fit_transform(X_train)\n",
    "X_test_scaled = min_max_scaler.transform(X_test)\n",
    "\n",
    "print(min_max_scaler.scale_)"
   ]
  },
  {
   "cell_type": "code",
   "execution_count": 6,
   "metadata": {},
   "outputs": [
    {
     "name": "stdout",
     "output_type": "stream",
     "text": [
      "Accuracy for the train data 1.0\n"
     ]
    }
   ],
   "source": [
    "from sklearn.ensemble import RandomForestClassifier\n",
    "\n",
    "model = RandomForestClassifier(random_state=101, n_estimators=150)\n",
    "model.fit(X_train_scaled, y_train)\n",
    "\n",
    "# training accuracy\n",
    "print('Accuracy for the train data', model.score(X_train_scaled, y_train))"
   ]
  },
  {
   "cell_type": "code",
   "execution_count": 7,
   "metadata": {},
   "outputs": [
    {
     "name": "stdout",
     "output_type": "stream",
     "text": [
      "Accuracy: 0.8932432432432432\n"
     ]
    }
   ],
   "source": [
    "from sklearn import metrics\n",
    "y_pred = model.predict(X_test_scaled)\n",
    "print(\"Accuracy:\",metrics.accuracy_score(y_test, y_pred))\n",
    "\n",
    "# print(\"*** Confusion Matrix ***\")\n",
    "# print(metrics.confusion_matrix(y_test, y_pred))"
   ]
  },
  {
   "cell_type": "code",
   "execution_count": 8,
   "metadata": {},
   "outputs": [],
   "source": [
    "# X_train.max(), X_train.min()"
   ]
  },
  {
   "cell_type": "code",
   "execution_count": 9,
   "metadata": {},
   "outputs": [],
   "source": [
    "# X_train.mean(), X_train.std()"
   ]
  },
  {
   "cell_type": "code",
   "execution_count": 10,
   "metadata": {},
   "outputs": [],
   "source": [
    "# inputs = tf.keras.layers.Input(shape=(500, 1))\n",
    "\n",
    "\n",
    "# def inception_lstm(inputs):\n",
    "#     a = tf.keras.layers.Bidirectional(\n",
    "#         tf.keras.layers.LSTM(5, return_sequences=True))(inputs)\n",
    "#     a = tf.keras.layers.LSTM(5, return_sequences=True)(a)\n",
    "\n",
    "#     b = tf.keras.layers.Conv1D(5, kernel_size=1, padding='same')(inputs)\n",
    "#     b = tf.keras.layers.Conv1D(5, kernel_size=3, padding='same')(b)\n",
    "\n",
    "#     c = tf.keras.layers.Conv1D(5, kernel_size=1, padding='same')(inputs)\n",
    "#     c = tf.keras.layers.Conv1D(5, kernel_size=5, padding='same')(c)\n",
    "\n",
    "#     d = tf.keras.layers.MaxPool1D(3)(inputs)\n",
    "#     d = tf.keras.layers.Conv1D(5, kernel_size=1)(d)\n",
    "\n",
    "#     concat = tf.keras.layers.Concatenate(1)([a, b, c, d])\n",
    "#     return concat\n",
    "\n",
    "\n",
    "# layer1 = inception_lstm(inputs)\n",
    "# layer2 = inception_lstm(layer1)\n",
    "# dropout = tf.keras.layers.Dropout(0.2)(layer2)\n",
    "# flattened = tf.keras.layers.Flatten()(dropout)\n",
    "# output = tf.keras.layers.Dense(2, activation='sigmoid')(flattened)\n",
    "\n",
    "# model = tf.keras.Model(inputs, output)\n",
    "# model.summary()"
   ]
  },
  {
   "cell_type": "code",
   "execution_count": 11,
   "metadata": {},
   "outputs": [],
   "source": [
    "# loss_fn = tf.keras.losses.BinaryCrossentropy()\n",
    "# model.compile(optimizer='adam',\n",
    "#               loss=loss_fn,\n",
    "#               metrics=['accuracy'])"
   ]
  },
  {
   "cell_type": "code",
   "execution_count": 12,
   "metadata": {},
   "outputs": [],
   "source": [
    "# np.unique(y_test.argmax(axis=1), return_counts=True)"
   ]
  },
  {
   "cell_type": "code",
   "execution_count": 13,
   "metadata": {},
   "outputs": [],
   "source": [
    "# y_pred = model.predict(X_test)"
   ]
  },
  {
   "cell_type": "code",
   "execution_count": 14,
   "metadata": {},
   "outputs": [],
   "source": [
    "# np.unique(y_pred.argmax(axis=1), return_counts=True)"
   ]
  },
  {
   "cell_type": "code",
   "execution_count": 15,
   "metadata": {},
   "outputs": [],
   "source": [
    "# # callback = tf.keras.callbacks.EarlyStopping(monitor='val_loss', patience=5)\n",
    "# model.fit(x=X_train, y=y_train, validation_data=(X_valid, y_valid),\n",
    "#           batch_size=128, epochs=100)"
   ]
  },
  {
   "cell_type": "code",
   "execution_count": 16,
   "metadata": {},
   "outputs": [],
   "source": [
    "# model.save('model4.keras')\n",
    "\n",
    "# model 3, minmax sample scaling w/ no early stopping (100 epochs)\n",
    "# model 4, zero mean feature scaling w/ no early stopping (100 epochs)"
   ]
  },
  {
   "cell_type": "code",
   "execution_count": 17,
   "metadata": {},
   "outputs": [],
   "source": [
    "# from sklearn.metrics import recall_score\n",
    "# from sklearn.metrics import precision_score\n",
    "# from sklearn.metrics import accuracy_score\n",
    "\n",
    "# y_pred = model.predict(X_test).argmax(axis=1)"
   ]
  },
  {
   "cell_type": "code",
   "execution_count": 18,
   "metadata": {},
   "outputs": [],
   "source": [
    "# print(recall_score(y_test.argmax(axis=1), y_pred))\n",
    "# print(precision_score(y_test.argmax(axis=1), y_pred))\n",
    "# print(accuracy_score(y_test.argmax(axis=1), y_pred))"
   ]
  }
 ],
 "metadata": {
  "kernelspec": {
   "display_name": "Python 3",
   "language": "python",
   "name": "python3"
  },
  "language_info": {
   "codemirror_mode": {
    "name": "ipython",
    "version": 3
   },
   "file_extension": ".py",
   "mimetype": "text/x-python",
   "name": "python",
   "nbconvert_exporter": "python",
   "pygments_lexer": "ipython3",
   "version": "3.11.3"
  }
 },
 "nbformat": 4,
 "nbformat_minor": 2
}
