{
 "cells": [
  {
   "cell_type": "markdown",
   "metadata": {},
   "source": [
    "# Implementation with the AdaBoostClassifier\n"
   ]
  },
  {
   "cell_type": "code",
   "execution_count": 41,
   "metadata": {},
   "outputs": [
    {
     "name": "stdout",
     "output_type": "stream",
     "text": [
      "TensorFlow version: 2.15.0\n"
     ]
    }
   ],
   "source": [
    "import os\n",
    "import numpy as np\n",
    "\n",
    "import tensorflow as tf\n",
    "print(\"TensorFlow version:\", tf.__version__)\n",
    "\n",
    "np.set_printoptions(precision=4)\n",
    "seg_length = 500"
   ]
  },
  {
   "cell_type": "markdown",
   "metadata": {},
   "source": []
  },
  {
   "cell_type": "code",
   "execution_count": 42,
   "metadata": {},
   "outputs": [
    {
     "data": {
      "text/plain": [
       "((7397, 500), (7397, 2))"
      ]
     },
     "execution_count": 42,
     "metadata": {},
     "output_type": "execute_result"
    }
   ],
   "source": [
    "X = None\n",
    "y = None\n",
    "\n",
    "db1_pos = ['chfdb']\n",
    "db1_neg = ['nsrdb', 'fantasia']\n",
    "db2_pos = ['chf2db']\n",
    "db2_neg = ['nsr2db']\n",
    "\n",
    "for db in db1_pos:\n",
    "    for record in os.listdir(f'data/{db}/rr'):\n",
    "        rr = np.loadtxt(f'data/{db}/rr/{record}')\n",
    "        n_segments = rr.shape[0] // seg_length\n",
    "        rr = rr[:n_segments*seg_length].reshape((n_segments, seg_length))\n",
    "        labels = np.c_[np.ones(n_segments), np.zeros(n_segments)]\n",
    "\n",
    "        if X is None or y is None:\n",
    "            X = rr\n",
    "            y = labels\n",
    "        else:\n",
    "            X = np.r_[rr, X]\n",
    "            y = np.r_[labels, y]\n",
    "\n",
    "for db in db1_neg:\n",
    "    for record in os.listdir(f'data/{db}/rr'):\n",
    "        rr = np.loadtxt(f'data/{db}/rr/{record}')\n",
    "        n_segments = rr.shape[0] // seg_length\n",
    "        rr = rr[:n_segments*seg_length].reshape((n_segments, seg_length))\n",
    "        labels = np.c_[np.zeros(n_segments), np.ones(n_segments)]\n",
    "\n",
    "        if X is None or y is None:\n",
    "            X = rr\n",
    "            y = labels\n",
    "        else:\n",
    "            X = np.r_[rr, X]\n",
    "            y = np.r_[labels, y]\n",
    "\n",
    "X.shape, y.shape"
   ]
  },
  {
   "cell_type": "code",
   "execution_count": 43,
   "metadata": {},
   "outputs": [
    {
     "data": {
      "text/plain": [
       "((5991, 500), (666, 500), (740, 500))"
      ]
     },
     "execution_count": 43,
     "metadata": {},
     "output_type": "execute_result"
    }
   ],
   "source": [
    "from sklearn.model_selection import train_test_split\n",
    "from sklearn import preprocessing\n",
    "\n",
    "# normalize?\n",
    "# X = (X - X.mean()) / X.std()\n",
    "X = preprocessing.scale(X, axis=1)\n",
    "\n",
    "X_train, X_test, y_train, y_test = train_test_split(X, y, test_size=0.1, random_state=410)\n",
    "X_train, X_valid, y_train, y_valid = train_test_split(X_train, y_train, test_size=0.1, random_state=410)\n",
    "\n",
    "# scaler = preprocessing.StandardScaler()\n",
    "# scaler.fit(X_train)\n",
    "# X_train = scaler.transform(X_train)\n",
    "# X_valid = scaler.transform(X_valid)\n",
    "# X_test = scaler.transform(X_test)\n",
    "\n",
    "X_train.shape, X_valid.shape, X_test.shape"
   ]
  },
  {
   "cell_type": "code",
   "execution_count": 44,
   "metadata": {},
   "outputs": [],
   "source": [
    "# from sklearn.model_selection import train_test_split\n",
    "\n",
    "# X_train, X_test, y_train, y_test = train_test_split(X, y, test_size=0.1, random_state=410)\n",
    "# X_train, X_valid, y_train, y_valid = train_test_split(X_train, y_train, test_size=0.1, random_state=410)\n",
    "\n",
    "# X_train.shape, X_valid.shape, X_test.shape, y_train.shape, y_test.shape"
   ]
  },
  {
   "cell_type": "code",
   "execution_count": 45,
   "metadata": {},
   "outputs": [
    {
     "name": "stdout",
     "output_type": "stream",
     "text": [
      "[0.0316 0.0465 0.0421 0.0601 0.053  0.0352 0.0476 0.0439 0.0441 0.0418\n",
      " 0.0476 0.0482 0.054  0.0511 0.0395 0.0429 0.0431 0.0635 0.0538 0.0562\n",
      " 0.0507 0.0504 0.0772 0.0592 0.0659 0.0612 0.0525 0.0316 0.064  0.0606\n",
      " 0.0521 0.0325 0.0545 0.0535 0.0578 0.0528 0.0489 0.0524 0.048  0.0487\n",
      " 0.0476 0.0412 0.0447 0.0366 0.0493 0.0563 0.0477 0.0373 0.0382 0.0308\n",
      " 0.0541 0.0418 0.0447 0.0486 0.0541 0.0581 0.0551 0.0586 0.0589 0.0477\n",
      " 0.0329 0.0623 0.0363 0.054  0.0499 0.0582 0.0559 0.0648 0.0552 0.0259\n",
      " 0.0588 0.0491 0.053  0.0591 0.0455 0.0462 0.0581 0.051  0.0473 0.0592\n",
      " 0.0525 0.0323 0.0295 0.0532 0.0486 0.0489 0.0561 0.0485 0.0506 0.0595\n",
      " 0.0313 0.0458 0.054  0.0687 0.0563 0.0547 0.0477 0.0517 0.0411 0.0519\n",
      " 0.042  0.0628 0.0482 0.0333 0.049  0.0623 0.0645 0.0328 0.0482 0.0468\n",
      " 0.0559 0.0538 0.0295 0.0548 0.0604 0.055  0.0618 0.0554 0.0452 0.0354\n",
      " 0.049  0.0591 0.0551 0.0411 0.0432 0.053  0.0556 0.0648 0.0622 0.0579\n",
      " 0.0595 0.0583 0.058  0.0557 0.0348 0.0504 0.0508 0.0527 0.0581 0.0491\n",
      " 0.0444 0.0406 0.0558 0.0395 0.0366 0.0411 0.0565 0.0597 0.0574 0.0557\n",
      " 0.0532 0.0535 0.0564 0.0623 0.056  0.0413 0.0555 0.0568 0.0558 0.0463\n",
      " 0.0543 0.0427 0.0443 0.051  0.0517 0.0449 0.0482 0.0415 0.035  0.0368\n",
      " 0.067  0.0527 0.0544 0.0607 0.0515 0.0517 0.0408 0.0435 0.0653 0.0561\n",
      " 0.0487 0.0434 0.0491 0.0516 0.0427 0.0488 0.0503 0.0623 0.0446 0.0398\n",
      " 0.0509 0.043  0.0407 0.0354 0.0565 0.0473 0.047  0.0445 0.0451 0.0507\n",
      " 0.0354 0.0563 0.0397 0.0274 0.0574 0.0345 0.0436 0.0547 0.0489 0.0409\n",
      " 0.0334 0.0454 0.0616 0.0578 0.0582 0.0543 0.0613 0.0459 0.0528 0.0578\n",
      " 0.0611 0.0558 0.0494 0.0475 0.0572 0.0411 0.0455 0.0472 0.0481 0.0572\n",
      " 0.0277 0.0406 0.0444 0.0624 0.0495 0.0413 0.0406 0.0413 0.0509 0.0346\n",
      " 0.0633 0.0514 0.0511 0.0706 0.0477 0.0424 0.0636 0.0546 0.0305 0.0562\n",
      " 0.0667 0.0713 0.0492 0.0517 0.0635 0.0506 0.0434 0.0503 0.0517 0.0521\n",
      " 0.0544 0.0544 0.0596 0.0471 0.0398 0.054  0.0433 0.0439 0.0345 0.0499\n",
      " 0.0498 0.0608 0.0634 0.0464 0.0423 0.0492 0.0477 0.0384 0.0369 0.0514\n",
      " 0.0451 0.0525 0.0473 0.0355 0.0425 0.0591 0.0632 0.0571 0.0542 0.0503\n",
      " 0.0468 0.0504 0.0523 0.0422 0.0553 0.0569 0.0467 0.0402 0.0489 0.0358\n",
      " 0.0564 0.0434 0.0435 0.049  0.0508 0.0502 0.0525 0.0538 0.0549 0.06\n",
      " 0.0581 0.0636 0.0494 0.0507 0.0594 0.0466 0.0402 0.0396 0.0564 0.0339\n",
      " 0.0525 0.0478 0.0502 0.0497 0.0479 0.0555 0.0669 0.0469 0.0429 0.0572\n",
      " 0.0581 0.0648 0.052  0.0442 0.0334 0.0402 0.0444 0.0395 0.0412 0.0483\n",
      " 0.0592 0.0406 0.0576 0.0499 0.0409 0.0481 0.059  0.0442 0.0459 0.045\n",
      " 0.0549 0.0571 0.0601 0.0513 0.0442 0.0505 0.0527 0.0459 0.0457 0.0483\n",
      " 0.0501 0.0534 0.0455 0.0511 0.0482 0.0542 0.0525 0.0586 0.0343 0.0479\n",
      " 0.0543 0.0667 0.0495 0.0457 0.0507 0.0457 0.0505 0.0572 0.0429 0.0382\n",
      " 0.0419 0.0447 0.0475 0.0472 0.0305 0.0581 0.0461 0.0512 0.0535 0.0556\n",
      " 0.0391 0.0396 0.0464 0.0411 0.0426 0.0448 0.0513 0.0436 0.0452 0.0566\n",
      " 0.0517 0.0465 0.0666 0.0427 0.0489 0.045  0.0408 0.0393 0.0552 0.0519\n",
      " 0.0446 0.054  0.0478 0.0471 0.0536 0.0514 0.0461 0.0444 0.0548 0.0479\n",
      " 0.0484 0.0488 0.0494 0.0569 0.0536 0.0501 0.0526 0.0541 0.0668 0.0279\n",
      " 0.0452 0.0447 0.046  0.0534 0.076  0.0399 0.0506 0.0623 0.0544 0.0524\n",
      " 0.0619 0.0604 0.0318 0.0447 0.0405 0.0453 0.0448 0.0502 0.049  0.0559\n",
      " 0.0498 0.0474 0.0495 0.0535 0.0533 0.0563 0.0527 0.0532 0.0514 0.0314\n",
      " 0.0489 0.0469 0.0628 0.0486 0.0501 0.0507 0.05   0.0688 0.0568 0.0492\n",
      " 0.0517 0.0422 0.0309 0.0523 0.0542 0.0491 0.0454 0.037  0.049  0.0614\n",
      " 0.0568 0.0496 0.0398 0.0408 0.048  0.0528 0.0486 0.0335 0.0566 0.0463\n",
      " 0.033  0.033  0.0395 0.0393 0.064  0.0465 0.049  0.0519 0.0484 0.0325]\n"
     ]
    }
   ],
   "source": [
    "from sklearn import preprocessing\n",
    "\n",
    "min_max_scaler = preprocessing.MinMaxScaler()\n",
    "X_train_scaled = min_max_scaler.fit_transform(X_train)\n",
    "X_test_scaled = min_max_scaler.transform(X_test)\n",
    "\n",
    "print(min_max_scaler.scale_)"
   ]
  },
  {
   "cell_type": "code",
   "execution_count": 46,
   "metadata": {},
   "outputs": [
    {
     "name": "stdout",
     "output_type": "stream",
     "text": [
      "(5991, 2)\n",
      "Accuracy for the train data 0.8327491236855283\n"
     ]
    }
   ],
   "source": [
    "from sklearn.ensemble import AdaBoostClassifier\n",
    "\n",
    "model = AdaBoostClassifier(random_state=101, n_estimators=300)\n",
    "# y_train_reshaped = y_train.reshape(-1) #reshaped to be a 1D array for the AdaBoostClassifier\n",
    "print(y_train.shape)\n",
    "# y_train_flattened = y_train.flatten()\n",
    "# print(y_train_flattened.shape)\n",
    "\n",
    "y_train_reshaped = y_train[:, 0] #extracts the entire first column\n",
    "\n",
    "\n",
    "\n",
    "model.fit(X_train_scaled,y_train_reshaped)\n",
    "\n",
    "# training accuracy\n",
    "print('Accuracy for the train data', model.score(X_train_scaled,y_train_reshaped))"
   ]
  },
  {
   "cell_type": "code",
   "execution_count": 47,
   "metadata": {},
   "outputs": [
    {
     "name": "stdout",
     "output_type": "stream",
     "text": [
      "[0. 1.]\n"
     ]
    }
   ],
   "source": [
    "unique_values = np.unique(y_train_reshaped)\n",
    "print(unique_values)"
   ]
  },
  {
   "cell_type": "code",
   "execution_count": 48,
   "metadata": {},
   "outputs": [
    {
     "name": "stdout",
     "output_type": "stream",
     "text": [
      "Type of y_test: <class 'numpy.ndarray'>\n",
      "Shape of y_test: (740, 2)\n",
      "(740,)\n",
      "[0. 1.]\n",
      "[0. 1.]\n",
      "Accuracy: 0.677027027027027\n"
     ]
    }
   ],
   "source": [
    "from sklearn import metrics\n",
    "\n",
    "print(\"Type of y_test:\", type(y_test))\n",
    "print(\"Shape of y_test:\", y_test.shape)\n",
    "\n",
    "y_test_flattened = y_test[:, 0]\n",
    "print(y_test_flattened.shape) #turn into a 1D array\n",
    "\n",
    "unique_values = np.unique(y_test_flattened)\n",
    "print(unique_values)\n",
    "\n",
    "y_pred = model.predict(X_test_scaled)\n",
    "\n",
    "\n",
    "# print(\"Type of y_pred:\", type(y_pred))\n",
    "# print(\"Shape of y_pred:\", y_pred.shape)\n",
    "unique_values = np.unique(y_pred)\n",
    "print(unique_values)\n",
    "\n",
    "print(\"Accuracy:\", metrics.accuracy_score(y_test_flattened, y_pred))\n",
    "\n",
    "\n",
    "\n",
    "# print(\"*** Confusion Matrix ***\")                                  \n",
    "# print(metrics.confusion_matrix(y_test, y_pred))"
   ]
  },
  {
   "cell_type": "code",
   "execution_count": 49,
   "metadata": {},
   "outputs": [],
   "source": [
    "# X_train.max(), X_train.min()"
   ]
  },
  {
   "cell_type": "code",
   "execution_count": 50,
   "metadata": {},
   "outputs": [],
   "source": [
    "# X_train.mean(), X_train.std()"
   ]
  },
  {
   "cell_type": "code",
   "execution_count": 51,
   "metadata": {},
   "outputs": [],
   "source": [
    "# inputs = tf.keras.layers.Input(shape=(500, 1))\n",
    "\n",
    "\n",
    "# def inception_lstm(inputs):\n",
    "#     a = tf.keras.layers.Bidirectional(\n",
    "#         tf.keras.layers.LSTM(5, return_sequences=True))(inputs)\n",
    "#     a = tf.keras.layers.LSTM(5, return_sequences=True)(a)\n",
    "\n",
    "#     b = tf.keras.layers.Conv1D(5, kernel_size=1, padding='same')(inputs)\n",
    "#     b = tf.keras.layers.Conv1D(5, kernel_size=3, padding='same')(b)\n",
    "\n",
    "#     c = tf.keras.layers.Conv1D(5, kernel_size=1, padding='same')(inputs)\n",
    "#     c = tf.keras.layers.Conv1D(5, kernel_size=5, padding='same')(c)\n",
    "\n",
    "#     d = tf.keras.layers.MaxPool1D(3)(inputs)\n",
    "#     d = tf.keras.layers.Conv1D(5, kernel_size=1)(d)\n",
    "\n",
    "#     concat = tf.keras.layers.Concatenate(1)([a, b, c, d])\n",
    "#     return concat\n",
    "\n",
    "\n",
    "# layer1 = inception_lstm(inputs)\n",
    "# layer2 = inception_lstm(layer1)\n",
    "# dropout = tf.keras.layers.Dropout(0.2)(layer2)\n",
    "# flattened = tf.keras.layers.Flatten()(dropout)\n",
    "# output = tf.keras.layers.Dense(2, activation='sigmoid')(flattened)\n",
    "\n",
    "# model = tf.keras.Model(inputs, output)\n",
    "# model.summary()"
   ]
  },
  {
   "cell_type": "code",
   "execution_count": 52,
   "metadata": {},
   "outputs": [],
   "source": [
    "# loss_fn = tf.keras.losses.BinaryCrossentropy()\n",
    "# model.compile(optimizer='adam',\n",
    "#               loss=loss_fn,\n",
    "#               metrics=['accuracy'])"
   ]
  },
  {
   "cell_type": "code",
   "execution_count": 53,
   "metadata": {},
   "outputs": [],
   "source": [
    "# np.unique(y_test.argmax(axis=1), return_counts=True)"
   ]
  },
  {
   "cell_type": "code",
   "execution_count": 54,
   "metadata": {},
   "outputs": [],
   "source": [
    "# y_pred = model.predict(X_test)"
   ]
  },
  {
   "cell_type": "code",
   "execution_count": 55,
   "metadata": {},
   "outputs": [],
   "source": [
    "# np.unique(y_pred.argmax(axis=1), return_counts=True)"
   ]
  },
  {
   "cell_type": "code",
   "execution_count": 56,
   "metadata": {},
   "outputs": [],
   "source": [
    "# # callback = tf.keras.callbacks.EarlyStopping(monitor='val_loss', patience=5)\n",
    "# model.fit(x=X_train, y=y_train, validation_data=(X_valid, y_valid),\n",
    "#           batch_size=128, epochs=100)"
   ]
  },
  {
   "cell_type": "code",
   "execution_count": 57,
   "metadata": {},
   "outputs": [],
   "source": [
    "# model.save('model4.keras')\n",
    "\n",
    "# model 3, minmax sample scaling w/ no early stopping (100 epochs)\n",
    "# model 4, zero mean feature scaling w/ no early stopping (100 epochs)"
   ]
  },
  {
   "cell_type": "code",
   "execution_count": 58,
   "metadata": {},
   "outputs": [],
   "source": [
    "# from sklearn.metrics import recall_score\n",
    "# from sklearn.metrics import precision_score\n",
    "# from sklearn.metrics import accuracy_score\n",
    "\n",
    "# y_pred = model.predict(X_test).argmax(axis=1)"
   ]
  },
  {
   "cell_type": "code",
   "execution_count": 59,
   "metadata": {},
   "outputs": [],
   "source": [
    "# print(recall_score(y_test.argmax(axis=1), y_pred))\n",
    "# print(precision_score(y_test.argmax(axis=1), y_pred))\n",
    "# print(accuracy_score(y_test.argmax(axis=1), y_pred))"
   ]
  }
 ],
 "metadata": {
  "kernelspec": {
   "display_name": "Python 3",
   "language": "python",
   "name": "python3"
  },
  "language_info": {
   "codemirror_mode": {
    "name": "ipython",
    "version": 3
   },
   "file_extension": ".py",
   "mimetype": "text/x-python",
   "name": "python",
   "nbconvert_exporter": "python",
   "pygments_lexer": "ipython3",
   "version": "3.11.3"
  }
 },
 "nbformat": 4,
 "nbformat_minor": 2
}
